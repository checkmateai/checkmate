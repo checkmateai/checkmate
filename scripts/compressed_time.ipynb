{
 "cells": [
  {
   "cell_type": "code",
   "execution_count": null,
   "metadata": {},
   "outputs": [],
   "source": [
    "%matplotlib inline\n",
    "from checkmate.plot.definitions import checkmate_data_dir\n",
    "from checkmate.core.graph_builder import gen_linear_graph\n",
    "from checkmate.core.solvers.cvxpy_solver import solve_checkmate_cvxpy\n",
    "import matplotlib.pyplot as plt\n",
    "import seaborn as sns\n",
    "import numpy as np\n",
    "from tqdm import tqdm\n",
    "import logging\n",
    "import pandas as pd\n",
    "sns.set('notebook')\n",
    "sns.set_style('dark')"
   ]
  },
  {
   "cell_type": "code",
   "execution_count": null,
   "metadata": {},
   "outputs": [],
   "source": [
    "def plot_solution(r, s, u):\n",
    "    fix, axs = plt.subplots(3, figsize=(20, 6))\n",
    "    \n",
    "    axs[0].invert_yaxis()\n",
    "    axs[0].pcolormesh(r, cmap=\"Greys\", vmin=0, vmax=1.0, edgecolors='white')\n",
    "    axs[0].set_title(\"R\")\n",
    "\n",
    "    axs[1].invert_yaxis()\n",
    "    axs[1].pcolormesh(s, cmap=\"Greys\", vmin=0, vmax=1.0, edgecolors='white')\n",
    "    axs[1].set_title(\"S\")\n",
    "\n",
    "    axs[2].invert_yaxis()\n",
    "    axs[2].pcolormesh(u, cmap=\"Greys\", vmin=0, vmax=np.max(u))\n",
    "    axs[2].set_title(\"U\")\n",
    "\n",
    "logdir = checkmate_data_dir() / \"compressed_time\"\n",
    "logdir.mkdir(parents=True, exist_ok=True)\n",
    "k = 64\n",
    "g = gen_linear_graph(k)\n",
    "budget = 16\n",
    "r, s, u, free_e = solve_checkmate_cvxpy(g, budget, verbose=True, integral=True)\n",
    "plot_solution(r, s, u)"
   ]
  },
  {
   "cell_type": "code",
   "execution_count": null,
   "metadata": {},
   "outputs": [],
   "source": []
  },
  {
   "cell_type": "code",
   "execution_count": null,
   "metadata": {},
   "outputs": [],
   "source": []
  }
 ],
 "metadata": {
  "kernelspec": {
   "display_name": "Python 3",
   "language": "python",
   "name": "python3"
  },
  "language_info": {
   "codemirror_mode": {
    "name": "ipython",
    "version": 3
   },
   "file_extension": ".py",
   "mimetype": "text/x-python",
   "name": "python",
   "nbconvert_exporter": "python",
   "pygments_lexer": "ipython3",
   "version": "3.7.7"
  }
 },
 "nbformat": 4,
 "nbformat_minor": 4
}
