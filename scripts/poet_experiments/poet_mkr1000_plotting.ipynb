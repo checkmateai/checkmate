{
  "cells": [
    {
      "cell_type": "code",
      "source": [
        "%config InlineBackend.figure_formats = ['svg']\n",
        "import pandas as pd\n",
        "import numpy as np\n",
        "\n",
        "import matplotlib.pyplot as plt\n",
        "import seaborn as sns\n",
        "from tqdm import tqdm\n",
        "sns.set('talk')\n",
        "sns.set_style('white')"
      ],
      "outputs": [],
      "execution_count": null,
      "metadata": {
        "execution": {
          "iopub.execute_input": "2020-04-09T22:40:08.121Z",
          "iopub.status.busy": "2020-04-09T22:40:08.118Z",
          "iopub.status.idle": "2020-04-09T22:40:09.748Z",
          "shell.execute_reply": "2020-04-09T22:40:09.751Z"
        },
        "nteract": {
          "transient": {
            "deleting": false
          }
        },
        "outputExpanded": false
      }
    },
    {
      "cell_type": "code",
      "source": [
        "df = pd.read_pickle('/Users/paras/Documents/code/checkmate/data/poet_mkr1000_pretty/results_pretty.pkl')\n",
        "df['Optimal remat + paging (POET)'] = df['total_compute_runtime'] + df['total_page_cost']\n",
        "df['Budget (KB)'] = df['budget'] / 1024\n",
        "\n",
        "df_no_paging = pd.read_pickle('/Users/paras/Documents/code/checkmate/data/poet_mkr1000_no_paging/results_no_paging.pkl')\n",
        "df_no_paging['Optimal remat (Checkmate)'] = df_no_paging['total_compute_runtime'] + df_no_paging['total_page_cost']\n",
        "df_no_paging['Budget (KB)'] = df_no_paging['budget'] / 1024\n",
        "\n",
        "df_no_remat = pd.read_pickle('/Users/paras/Documents/code/checkmate/data/poet_mkr1000_no_remat/results_no_remat.pkl')\n",
        "df_no_remat['Paging only'] = df_no_remat['total_compute_runtime'] + df_no_remat['total_page_cost']\n",
        "df_no_remat['Budget (KB)'] = df_no_remat['budget'] / 1024\n",
        "\n",
        "ax = df.plot(x='Budget (KB)', y='Optimal remat + paging (POET)', kind='line', stacked=True)\n",
        "df_no_paging.plot(x='Budget (KB)', y='Optimal remat (Checkmate)', kind='line', stacked=True, ax=ax)\n",
        "df_no_remat.plot(x='Budget (KB)', y='Paging only', kind='line', stacked=True, ax=ax)\n",
        "ax.set_ylabel('Joules')\n",
        "ax.set_xlim(2.0, 18)"
      ],
      "outputs": [],
      "execution_count": null,
      "metadata": {
        "execution": {
          "iopub.execute_input": "2020-04-09T22:40:50.197Z",
          "iopub.status.busy": "2020-04-09T22:40:50.195Z",
          "iopub.status.idle": "2020-04-09T22:40:50.201Z",
          "shell.execute_reply": "2020-04-09T22:40:50.204Z"
        },
        "nteract": {
          "transient": {
            "deleting": false
          }
        },
        "outputExpanded": false
      }
    },
    {
      "cell_type": "code",
      "source": [
        "ax = df_no_remat.plot(x='Budget (KB)', y='Paging only', kind='line', stacked=True)\n",
        "df.plot(x='Budget (KB)', y='Optimal remat + paging (POET)', kind='line', stacked=True, ax=ax)\n",
        "ax.set_ylabel('Joules')"
      ],
      "outputs": [],
      "execution_count": null,
      "metadata": {}
    },
    {
      "cell_type": "code",
      "source": [],
      "outputs": [],
      "execution_count": null,
      "metadata": {}
    }
  ],
  "metadata": {
    "kernel_info": {
      "name": "python3"
    },
    "kernelspec": {
      "display_name": "Python 3",
      "language": "python",
      "name": "python3"
    },
    "language_info": {
      "codemirror_mode": {
        "name": "ipython",
        "version": 3
      },
      "file_extension": ".py",
      "mimetype": "text/x-python",
      "name": "python",
      "nbconvert_exporter": "python",
      "pygments_lexer": "ipython3",
      "version": "3.7.7"
    },
    "nteract": {
      "version": "0.22.4"
    }
  },
  "nbformat": 4,
  "nbformat_minor": 4
}