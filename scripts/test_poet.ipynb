{
 "cells": [
  {
   "cell_type": "code",
   "execution_count": null,
   "metadata": {
    "collapsed": false,
    "jupyter": {
     "outputs_hidden": false
    },
    "pycharm": {
     "name": "#%%\n"
    }
   },
   "outputs": [],
   "source": [
    "%matplotlib inline\n",
    "from checkmate.core.graph_builder import gen_linear_graph\n",
    "from checkmate.core.solvers.poet_solver import extract_costs_from_dfgraph, solve_poet_cvxpy\n",
    "import matplotlib.pyplot as plt\n",
    "import seaborn as sns\n",
    "import numpy as np\n",
    "from tqdm import tqdm\n",
    "import logging\n",
    "import pandas as pd\n",
    "sns.set('notebook')\n",
    "sns.set_style('dark')"
   ]
  },
  {
   "cell_type": "code",
   "execution_count": null,
   "metadata": {},
   "outputs": [],
   "source": [
    "!mkdir -p data/poet_sweep\n",
    "data = []\n",
    "for cost_factor in tqdm([0.1, 1.0, 2.0, 4.0, 5.0, 8.0, 16.0]):\n",
    "    for budget in [1.0, 2.0, 3.0, 4.0]:\n",
    "        try:\n",
    "            g = gen_linear_graph(16)\n",
    "            cpu_cost, page_in_cost, page_out_cost = extract_costs_from_dfgraph(g, cost_factor)\n",
    "            solution = solve_poet_cvxpy(g, budget, cpu_cost, page_in_cost, page_out_cost, solver_override=\"GUROBI\", verbose=True)\n",
    "\n",
    "            data.append(dict(cost_factor=cost_factor, budget=budget, solution=solution, dfgraph=g,\n",
    "                             cpu_cost=cpu_cost, page_in_cost=page_in_cost, page_out_cost=page_out_cost))\n",
    "\n",
    "            plt.figure()\n",
    "            fig, axarr = plt.subplots(1, 5, figsize=(25, 5))\n",
    "            for arr, ax, name in zip(solution, axarr, ['R', 'S_RAM', 'S_SD',  'M_sd2ram', 'M_ram2sd']):\n",
    "                ax.invert_yaxis()\n",
    "                ax.pcolormesh(arr, cmap=\"Greys\", vmin=0, vmax=1)\n",
    "                ax.set_title(name)\n",
    "            fig.savefig('data/poet_sweep/{}_{}.png'.format(cost_factor, budget))\n",
    "        except Exception as e:\n",
    "            logging.exception(e)\n",
    "            continue"
   ]
  },
  {
   "cell_type": "code",
   "execution_count": null,
   "metadata": {},
   "outputs": [],
   "source": [
    "def featurize_row(data_row):\n",
    "    out_vec = dict(cost_factor=data_row['cost_factor'], budget=data_row['budget'])\n",
    "    R, S_RAM, S_SD, M_sd2ram, M_ram2sd = data_row['solution']\n",
    "    out_vec['total_compute_runtime'] = np.sum(R @ data_row['cpu_cost'])\n",
    "    out_vec['total_page_cost'] = (np.sum(M_sd2ram @ data_row['page_out_cost']) + np.sum(M_ram2sd @ data_row['page_in_cost'])) / data_row['cost_factor']\n",
    "    return out_vec\n",
    "df = pd.DataFrame(map(featurize_row, data))"
   ]
  },
  {
   "cell_type": "code",
   "execution_count": null,
   "metadata": {},
   "outputs": [],
   "source": [
    "for budget in [2.0, 3.0, 4.0]:\n",
    "    df[df['budget'] == budget].plot(x='cost_factor', y=['total_compute_runtime', 'total_page_cost'], kind='bar', stacked=True)"
   ]
  },
  {
   "cell_type": "code",
   "execution_count": null,
   "metadata": {},
   "outputs": [],
   "source": [
    "df[df['cost_factor'] == 2.0].plot(x='budget', y=['total_compute_runtime', 'total_page_cost'], kind='bar', stacked=True)"
   ]
  },
  {
   "cell_type": "code",
   "execution_count": null,
   "metadata": {},
   "outputs": [],
   "source": [
    "data[0]"
   ]
  },
  {
   "cell_type": "code",
   "execution_count": null,
   "metadata": {},
   "outputs": [],
   "source": []
  }
 ],
 "metadata": {
  "kernelspec": {
   "display_name": "Python 3",
   "language": "python",
   "name": "python3"
  },
  "language_info": {
   "codemirror_mode": {
    "name": "ipython",
    "version": 3
   },
   "file_extension": ".py",
   "mimetype": "text/x-python",
   "name": "python",
   "nbconvert_exporter": "python",
   "pygments_lexer": "ipython3",
   "version": "3.7.7"
  },
  "pycharm": {
   "stem_cell": {
    "cell_type": "raw",
    "metadata": {
     "collapsed": false
    },
    "source": [
     "\n"
    ]
   }
  }
 },
 "nbformat": 4,
 "nbformat_minor": 4
}